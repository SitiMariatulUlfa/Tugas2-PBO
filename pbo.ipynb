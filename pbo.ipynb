{
  "nbformat": 4,
  "nbformat_minor": 0,
  "metadata": {
    "colab": {
      "provenance": [],
      "authorship_tag": "ABX9TyM5PVf8exHUbuF5JG6vm7xR",
      "include_colab_link": true
    },
    "kernelspec": {
      "name": "python3",
      "display_name": "Python 3"
    },
    "language_info": {
      "name": "python"
    }
  },
  "cells": [
    {
      "cell_type": "markdown",
      "metadata": {
        "id": "view-in-github",
        "colab_type": "text"
      },
      "source": [
        "<a href=\"https://colab.research.google.com/github/SitiMariatulUlfa/Tugas2-PBO/blob/main/pbo.ipynb\" target=\"_parent\"><img src=\"https://colab.research.google.com/assets/colab-badge.svg\" alt=\"Open In Colab\"/></a>"
      ]
    },
    {
      "cell_type": "markdown",
      "source": [
        "Kelas Pertama: Mahasiwa"
      ],
      "metadata": {
        "id": "pyS2vImWkOOw"
      }
    },
    {
      "cell_type": "code",
      "execution_count": 1,
      "metadata": {
        "colab": {
          "base_uri": "https://localhost:8080/"
        },
        "id": "v6xNSOn1kMyh",
        "outputId": "dd505b86-c0ad-4e7f-896a-c58123f2087d"
      },
      "outputs": [
        {
          "output_type": "stream",
          "name": "stdout",
          "text": [
            "Mahasiswa ulfa dengan NIM 220705017 telah mencetak KRS.\n"
          ]
        }
      ],
      "source": [
        "class Mahasiswa:\n",
        "    def __init__(self, nama, nim):\n",
        "        self.nama = nama\n",
        "        self.nim = nim\n",
        "\n",
        "    def cetak_krs(self):\n",
        "        print(f\"Mahasiswa {self.nama} dengan NIM {self.nim} telah mencetak KRS.\")\n",
        "\n",
        "## Objek Mahasiswa\n",
        "mhs = Mahasiswa(\"ulfa\", \"220705017\")\n",
        "mhs.cetak_krs()"
      ]
    },
    {
      "cell_type": "markdown",
      "source": [
        "Kelas Kedua: Lingkaran"
      ],
      "metadata": {
        "id": "u3iancaOkerL"
      }
    },
    {
      "cell_type": "code",
      "source": [
        "class Lingkaran:\n",
        "    def __init__(self, radius):\n",
        "        self.radius = radius\n",
        "\n",
        "    def hitung_luas(self):\n",
        "        return 6.10 * self.radius ** 2\n",
        "\n",
        "## Objek Lingkaran\n",
        "blt = Lingkaran(10)\n",
        "print(f\"Luas lingkaran: {blt.hitung_luas()}\")"
      ],
      "metadata": {
        "colab": {
          "base_uri": "https://localhost:8080/"
        },
        "id": "IMZQvPZBkjwa",
        "outputId": "89aefcec-0027-49cb-d461-d16f2968d4f4"
      },
      "execution_count": 2,
      "outputs": [
        {
          "output_type": "stream",
          "name": "stdout",
          "text": [
            "Luas lingkaran: 610.0\n"
          ]
        }
      ]
    },
    {
      "cell_type": "markdown",
      "source": [
        "Kelas Ketiga: Mobil"
      ],
      "metadata": {
        "id": "fZmhi5k5knE-"
      }
    },
    {
      "cell_type": "code",
      "source": [
        "class Mobil:\n",
        "    def __init__(self, merk, tahun):\n",
        "        self.merk = merk\n",
        "        self.tahun = tahun\n",
        "\n",
        "    def info_mobil(self):\n",
        "        print(f\"Mobil {self.merk} keluaran tahun {self.tahun}.\")\n",
        "\n",
        "## Objek Mobil\n",
        "avanza = Mobil(\"BMW f30i \", 2024)\n",
        "avanza.info_mobil()"
      ],
      "metadata": {
        "colab": {
          "base_uri": "https://localhost:8080/"
        },
        "id": "gk317xYckqC-",
        "outputId": "182fb061-c245-4bf2-a8d1-28549f48d077"
      },
      "execution_count": 3,
      "outputs": [
        {
          "output_type": "stream",
          "name": "stdout",
          "text": [
            "Mobil BMW f30i  keluaran tahun 2024.\n"
          ]
        }
      ]
    },
    {
      "cell_type": "markdown",
      "source": [
        "Kelas Keempat: Buku"
      ],
      "metadata": {
        "id": "IIXdO6Bgk-oF"
      }
    },
    {
      "cell_type": "code",
      "source": [
        "class Buku:\n",
        "    def __init__(self, judul, penulis):\n",
        "        self.judul = judul\n",
        "        self.penulis = penulis\n",
        "\n",
        "    def deskripsi(self):\n",
        "        print(f\"Buku '{self.judul}' ditulis oleh {self.penulis}.\")\n",
        "\n",
        "## Objek Buku\n",
        "buku1 = Buku(\"4 brother\", \"3726 mdpl\")\n",
        "buku1.deskripsi()"
      ],
      "metadata": {
        "colab": {
          "base_uri": "https://localhost:8080/"
        },
        "id": "X71-pSt5lBTB",
        "outputId": "41675d17-1261-4145-d94e-acf4c1e7b197"
      },
      "execution_count": 4,
      "outputs": [
        {
          "output_type": "stream",
          "name": "stdout",
          "text": [
            "Buku '4 brother' ditulis oleh 3726 mdpl.\n"
          ]
        }
      ]
    },
    {
      "cell_type": "markdown",
      "source": [
        "Kelas Kelima: Laptop"
      ],
      "metadata": {
        "id": "5EMz6GT6lgbi"
      }
    },
    {
      "cell_type": "code",
      "source": [
        "class Laptop:\n",
        "    def __init__(self, merk, harga):\n",
        "        self.merk = merk\n",
        "        self.harga = harga\n",
        "\n",
        "    def spesifikasi(self):\n",
        "        print(f\"Laptop {self.merk} memiliki harga Rp{self.harga:,}.\")\n",
        "\n",
        "## Objek Laptop\n",
        "laptop1 = Laptop(\"Acer\", 17000000)\n",
        "laptop1.spesifikasi()"
      ],
      "metadata": {
        "colab": {
          "base_uri": "https://localhost:8080/"
        },
        "id": "l8lZViB8lh0Y",
        "outputId": "363d74c0-6e1e-4a47-e42e-06b73985ad53"
      },
      "execution_count": 5,
      "outputs": [
        {
          "output_type": "stream",
          "name": "stdout",
          "text": [
            "Laptop Acer memiliki harga Rp17,000,000.\n"
          ]
        }
      ]
    }
  ]
}